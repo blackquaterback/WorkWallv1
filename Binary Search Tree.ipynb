{
 "cells": [
  {
   "cell_type": "code",
   "execution_count": 26,
   "id": "5c7b2b86",
   "metadata": {
    "scrolled": true
   },
   "outputs": [
    {
     "name": "stdout",
     "output_type": "stream",
     "text": [
      "110\n"
     ]
    }
   ],
   "source": [
    "#knapsack\n",
    "\n",
    "def knapsack(capacity,weight,profit,n):\n",
    "    if (n==0 or capacity==0):\n",
    "        return 0\n",
    "    elif (weight[n-1] > capacity):\n",
    "        return knapsack(capacity,weight,profit,n-1)\n",
    "    else:\n",
    "        return max(profit[n-1] + knapsack(capacity-weight[n-1],weight,profit,n-1), knapsack(capacity,weight,profit,n-1))\n",
    "\n",
    "profit = [30,50,60]\n",
    "weight = [5,10,15]\n",
    "Capacity = 25\n",
    "n = len(weight)\n",
    "print(knapsack(Capacity,weight,profit,n))\n",
    "\n",
    "    "
   ]
  }
 ],
 "metadata": {
  "kernelspec": {
   "display_name": "Python 3 (ipykernel)",
   "language": "python",
   "name": "python3"
  },
  "language_info": {
   "codemirror_mode": {
    "name": "ipython",
    "version": 3
   },
   "file_extension": ".py",
   "mimetype": "text/x-python",
   "name": "python",
   "nbconvert_exporter": "python",
   "pygments_lexer": "ipython3",
   "version": "3.9.12"
  }
 },
 "nbformat": 4,
 "nbformat_minor": 5
}
